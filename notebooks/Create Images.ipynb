{
 "cells": [
  {
   "cell_type": "code",
   "execution_count": null,
   "id": "8cb12501-c3f6-4a4c-ad16-d2360a5c1e92",
   "metadata": {},
   "outputs": [],
   "source": [
    "from pdlparser.utils import generate_image\n",
    "import matplotlib.pyplot as plt"
   ]
  },
  {
   "cell_type": "code",
   "execution_count": null,
   "id": "ddf3ecb4-6cee-4dd8-a0d4-1d915bb6fe73",
   "metadata": {},
   "outputs": [],
   "source": [
    "img = generate_image(\n",
    "    './data/preferred-drug-list-2021-10-01_tcm1053-499882.pdf', \n",
    "    page=2\n",
    ")"
   ]
  },
  {
   "cell_type": "code",
   "execution_count": null,
   "id": "77cbf506-ed33-4dde-9a96-01b7063f0cd8",
   "metadata": {},
   "outputs": [],
   "source": [
    "fig = plt.figure()\n",
    "fig.set_size_inches(15,15)\n",
    "plt.imshow(img)"
   ]
  },
  {
   "cell_type": "code",
   "execution_count": null,
   "id": "0e331655-5c5f-44dd-aa5c-e54c3e0f18c4",
   "metadata": {},
   "outputs": [],
   "source": []
  }
 ],
 "metadata": {
  "kernelspec": {
   "display_name": "Python 3 (ipykernel)",
   "language": "python",
   "name": "python3"
  },
  "language_info": {
   "codemirror_mode": {
    "name": "ipython",
    "version": 3
   },
   "file_extension": ".py",
   "mimetype": "text/x-python",
   "name": "python",
   "nbconvert_exporter": "python",
   "pygments_lexer": "ipython3",
   "version": "3.9.5"
  }
 },
 "nbformat": 4,
 "nbformat_minor": 5
}
